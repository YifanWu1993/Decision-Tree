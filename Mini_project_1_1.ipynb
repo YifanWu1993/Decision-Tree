{
 "cells": [
  {
   "cell_type": "code",
   "execution_count": 1,
   "id": "84e8cb33",
   "metadata": {
    "collapsed": true
   },
   "outputs": [
    {
     "name": "stdout",
     "output_type": "stream",
     "text": [
      "Collecting display\n",
      "  Downloading display-1.0.0.tar.gz (687 bytes)\n",
      "  Preparing metadata (setup.py): started\n",
      "  Preparing metadata (setup.py): finished with status 'done'\n",
      "Building wheels for collected packages: display\n",
      "  Building wheel for display (setup.py): started\n",
      "  Building wheel for display (setup.py): finished with status 'done'\n",
      "  Created wheel for display: filename=display-1.0.0-py3-none-any.whl size=1380 sha256=05efd6a5cebef3a76b94a2f71d98486dfcc3ccb0bdd884e2627fdad0f98fe9fc\n",
      "  Stored in directory: c:\\users\\yifan\\appdata\\local\\pip\\cache\\wheels\\b3\\45\\b2\\c40be70bc2856c345453aafc8ad480489e0b05222447531987\n",
      "Successfully built display\n",
      "Installing collected packages: display\n",
      "Successfully installed display-1.0.0\n",
      "Note: you may need to restart the kernel to use updated packages.\n"
     ]
    },
    {
     "name": "stderr",
     "output_type": "stream",
     "text": [
      "WARNING: Ignoring invalid distribution -encv-python (c:\\users\\yifan\\anaconda3\\lib\\site-packages)\n",
      "WARNING: Ignoring invalid distribution -pencv-python (c:\\users\\yifan\\anaconda3\\lib\\site-packages)\n",
      "WARNING: Ignoring invalid distribution -pencv-contrib-python (c:\\users\\yifan\\anaconda3\\lib\\site-packages)\n",
      "WARNING: Ignoring invalid distribution - (c:\\users\\yifan\\anaconda3\\lib\\site-packages)\n",
      "WARNING: Ignoring invalid distribution -encv-python (c:\\users\\yifan\\anaconda3\\lib\\site-packages)\n",
      "WARNING: Ignoring invalid distribution -pencv-python (c:\\users\\yifan\\anaconda3\\lib\\site-packages)\n",
      "WARNING: Ignoring invalid distribution -pencv-contrib-python (c:\\users\\yifan\\anaconda3\\lib\\site-packages)\n",
      "WARNING: Ignoring invalid distribution - (c:\\users\\yifan\\anaconda3\\lib\\site-packages)\n",
      "WARNING: Ignoring invalid distribution -encv-python (c:\\users\\yifan\\anaconda3\\lib\\site-packages)\n",
      "WARNING: Ignoring invalid distribution -pencv-python (c:\\users\\yifan\\anaconda3\\lib\\site-packages)\n",
      "WARNING: Ignoring invalid distribution -pencv-contrib-python (c:\\users\\yifan\\anaconda3\\lib\\site-packages)\n",
      "WARNING: Ignoring invalid distribution - (c:\\users\\yifan\\anaconda3\\lib\\site-packages)\n",
      "WARNING: Ignoring invalid distribution -encv-python (c:\\users\\yifan\\anaconda3\\lib\\site-packages)\n",
      "WARNING: Ignoring invalid distribution -pencv-python (c:\\users\\yifan\\anaconda3\\lib\\site-packages)\n",
      "WARNING: Ignoring invalid distribution -pencv-contrib-python (c:\\users\\yifan\\anaconda3\\lib\\site-packages)\n",
      "WARNING: Ignoring invalid distribution - (c:\\users\\yifan\\anaconda3\\lib\\site-packages)\n",
      "WARNING: Ignoring invalid distribution -encv-python (c:\\users\\yifan\\anaconda3\\lib\\site-packages)\n",
      "WARNING: Ignoring invalid distribution -pencv-python (c:\\users\\yifan\\anaconda3\\lib\\site-packages)\n",
      "WARNING: Ignoring invalid distribution -pencv-contrib-python (c:\\users\\yifan\\anaconda3\\lib\\site-packages)\n",
      "WARNING: Ignoring invalid distribution - (c:\\users\\yifan\\anaconda3\\lib\\site-packages)\n",
      "WARNING: Ignoring invalid distribution -encv-python (c:\\users\\yifan\\anaconda3\\lib\\site-packages)\n",
      "WARNING: Ignoring invalid distribution -pencv-python (c:\\users\\yifan\\anaconda3\\lib\\site-packages)\n",
      "WARNING: Ignoring invalid distribution -pencv-contrib-python (c:\\users\\yifan\\anaconda3\\lib\\site-packages)\n",
      "WARNING: Ignoring invalid distribution - (c:\\users\\yifan\\anaconda3\\lib\\site-packages)\n",
      "WARNING: Ignoring invalid distribution -encv-python (c:\\users\\yifan\\anaconda3\\lib\\site-packages)\n",
      "WARNING: Ignoring invalid distribution -pencv-python (c:\\users\\yifan\\anaconda3\\lib\\site-packages)\n",
      "WARNING: Ignoring invalid distribution -pencv-contrib-python (c:\\users\\yifan\\anaconda3\\lib\\site-packages)\n",
      "WARNING: Ignoring invalid distribution - (c:\\users\\yifan\\anaconda3\\lib\\site-packages)\n"
     ]
    }
   ],
   "source": [
    "pip install display"
   ]
  },
  {
   "cell_type": "code",
   "execution_count": 1,
   "id": "391e1108",
   "metadata": {},
   "outputs": [],
   "source": [
    "from sklearn import tree\n",
    "from sklearn import preprocessing\n",
    "import numpy as np\n",
    "import numpy as npIPython\n",
    "import pandas as pd\n",
    "import graphviz\n"
   ]
  },
  {
   "cell_type": "code",
   "execution_count": 2,
   "id": "053cdf1e",
   "metadata": {
    "scrolled": false
   },
   "outputs": [
    {
     "data": {
      "text/html": [
       "\n",
       "<form id=\"feature-form\">\n",
       "  <label for=\"feature1\">Feature 1:</label>\n",
       "  <input type=\"text\" id=\"feature1\" name=\"feature1\" value=\"\"><br>\n",
       "\n",
       "  <label for=\"feature2\">Feature 2:</label>\n",
       "  <input type=\"text\" id=\"feature2\" name=\"feature2\" value=\"\"><br>\n",
       "\n",
       "  <label for=\"feature3\">Feature 3:</label>\n",
       "  <input type=\"text\" id=\"feature3\" name=\"feature3\" value=\"\"><br>\n",
       "\n",
       "  <label for=\"feature4\">Feature 4:</label>\n",
       "  <input type=\"text\" id=\"feature4\" name=\"feature4\" value=\"\"><br>\n",
       "\n",
       "  <label for=\"feature5\">Feature 5:</label>\n",
       "  <input type=\"text\" id=\"feature5\" name=\"feature5\" value=\"\"><br>\n",
       "\n",
       "  <label for=\"feature6\">Feature 6:</label>\n",
       "  <input type=\"text\" id=\"feature6\" name=\"feature6\" value=\"\"><br>\n",
       "\n",
       "  <label for=\"feature7\">Feature 7:</label>\n",
       "  <input type=\"text\" id=\"feature7\" name=\"feature7\" value=\"\"><br>\n",
       "\n",
       "  <label for=\"feature8\">Feature 8:</label>\n",
       "  <input type=\"text\" id=\"feature8\" name=\"feature8\" value=\"\"><br>\n",
       "\n",
       "  <label for=\"feature9\">Feature 9:</label>\n",
       "  <input type=\"text\" id=\"feature9\" name=\"feature9\" value=\"\"><br>\n",
       "\n",
       "  <label for=\"feature10\">Feature 10:</label>\n",
       "  <input type=\"text\" id=\"feature10\" name=\"feature10\" value=\"\"><br>\n",
       "\n",
       "  <input type=\"submit\" value=\"Submit\">\n",
       "</form>\n"
      ],
      "text/plain": [
       "<IPython.core.display.HTML object>"
      ]
     },
     "metadata": {},
     "output_type": "display_data"
    }
   ],
   "source": [
    "from IPython.display import display, HTML\n",
    "form_code = '''\n",
    "<form id=\"feature-form\">\n",
    "  <label for=\"feature1\">Feature 1:</label>\n",
    "  <input type=\"text\" id=\"feature1\" name=\"feature1\" value=\"\"><br>\n",
    "\n",
    "  <label for=\"feature2\">Feature 2:</label>\n",
    "  <input type=\"text\" id=\"feature2\" name=\"feature2\" value=\"\"><br>\n",
    "\n",
    "  <label for=\"feature3\">Feature 3:</label>\n",
    "  <input type=\"text\" id=\"feature3\" name=\"feature3\" value=\"\"><br>\n",
    "\n",
    "  <label for=\"feature4\">Feature 4:</label>\n",
    "  <input type=\"text\" id=\"feature4\" name=\"feature4\" value=\"\"><br>\n",
    "\n",
    "  <label for=\"feature5\">Feature 5:</label>\n",
    "  <input type=\"text\" id=\"feature5\" name=\"feature5\" value=\"\"><br>\n",
    "\n",
    "  <label for=\"feature6\">Feature 6:</label>\n",
    "  <input type=\"text\" id=\"feature6\" name=\"feature6\" value=\"\"><br>\n",
    "\n",
    "  <label for=\"feature7\">Feature 7:</label>\n",
    "  <input type=\"text\" id=\"feature7\" name=\"feature7\" value=\"\"><br>\n",
    "\n",
    "  <label for=\"feature8\">Feature 8:</label>\n",
    "  <input type=\"text\" id=\"feature8\" name=\"feature8\" value=\"\"><br>\n",
    "\n",
    "  <label for=\"feature9\">Feature 9:</label>\n",
    "  <input type=\"text\" id=\"feature9\" name=\"feature9\" value=\"\"><br>\n",
    "\n",
    "  <label for=\"feature10\">Feature 10:</label>\n",
    "  <input type=\"text\" id=\"feature10\" name=\"feature10\" value=\"\"><br>\n",
    "\n",
    "  <input type=\"submit\" value=\"Submit\">\n",
    "</form>\n",
    "'''\n",
    "\n",
    "javascript_code = '''\n",
    "<script>\n",
    "//document.getElementById('feature-form').addEventListener('submit', function(event) {\n",
    "    event.preventDefault();\n",
    "\n",
    "    // Get the values from the form inputs\n",
    "    var feature1 = document.getElementById('feature1').value;\n",
    "    var feature2 = document.getElementById('feature2').value;\n",
    "    var feature3 = document.getElementById('feature3').value;\n",
    "    var feature4 = document.getElementById('feature4').value;\n",
    "    var feature5 = document.getElementById('feature5').value;\n",
    "    var feature6 = document.getElementById('feature6').value;\n",
    "    var feature7 = document.getElementById('feature7').value;\n",
    "    var feature8 = document.getElementById('feature8').value;\n",
    "    var feature9 = document.getElementById('feature9').value;\n",
    "    var feature10 = document.getElementById('feature10').value;\n",
    "\n",
    "    // Set the values in the new_instance array\n",
    "    kernel.invokeFunction('update_new_instance', [feature1, feature2, feature3, feature4, feature5, feature6, feature7, feature8, feature9, feature10]);\n",
    "    // Print the new_instance array\n",
    "});\n",
    "</script>\n",
    "'''\n",
    "\n",
    "# Combine the HTML form and JavaScript code\n",
    "html_code = form_code + javascript_code\n",
    "display(HTML(form_code))"
   ]
  },
  {
   "cell_type": "markdown",
   "id": "4fd0cc26",
   "metadata": {},
   "source": [
    "## Create dataset"
   ]
  },
  {
   "cell_type": "code",
   "execution_count": 3,
   "id": "ee08e3c6",
   "metadata": {},
   "outputs": [
    {
     "name": "stderr",
     "output_type": "stream",
     "text": [
      "C:\\Users\\yifan\\AppData\\Local\\Temp\\ipykernel_12148\\2244046500.py:4: VisibleDeprecationWarning: Creating an ndarray from ragged nested sequences (which is a list-or-tuple of lists-or-tuples-or ndarrays with different lengths or shapes) is deprecated. If you meant to do this, you must specify 'dtype=object' when creating the ndarray.\n",
      "  dataset = np.array([\n"
     ]
    }
   ],
   "source": [
    "from sklearn import preprocessing\n",
    "\n",
    "# Define the dataset\n",
    "dataset = np.array([\n",
    "['yes', 'no', 'no', 'yes','some',3,'no','yes','French',(0, 10),'wait' ],\n",
    "['yes', 'no', 'no', 'yes','full',1,'no','no','Thai',(30, 60),'nowait' ],\n",
    "['no', 'yes', 'no', 'no','some',1,'no','no','Burger',(0, 10),'wait' ],\n",
    "['yes', 'no', 'yes', 'yes','full',1,'yes','no','Thai',(10, 30),'wait' ],\n",
    "['yes', 'no', 'yes', 'no','full',3,'no','yes','French',(60, np.inf),'nowait' ],\n",
    "['no', 'yes', 'no', 'yes','some',2,'yes','yes','Italian',(0, 10),'wait' ],\n",
    "['no', 'yes', 'no', 'no','none',1,'yes','no','Burger',(0, 10),'nowait' ],\n",
    "['no', 'no', 'no', 'yes','some',2,'yes','yes','Thai',(0, 10),'wait' ],\n",
    "['no', 'yes', 'yes', 'no','full',1,'yes','no','Burger',(60, np.inf),'nowait' ],\n",
    "['yes', 'yes', 'yes', 'yes','full',3,'no','yes','Italian',(10, 30),'nowait' ],\n",
    "['no', 'no', 'no', 'no','none',1,'no','no','Thai',(0, 10),'nowait' ],\n",
    "['yes', 'yes', 'yes','yes','full',1,'no','no','Burger',(30, 60),'wait' ],\n",
    "])\n",
    "\n",
    "# Create a dictionary to store the LabelEncoders\n",
    "le_dict = {}\n",
    "\n",
    "# For each column in the dataset...\n",
    "for i in [0, 1, 2, 3, 4, 6, 7, 8]:\n",
    "    # Create a new LabelEncoder\n",
    "    le = preprocessing.LabelEncoder()\n",
    "\n",
    "    # Fit the LabelEncoder to the column data\n",
    "    le.fit(dataset[:, i])\n",
    "\n",
    "    # Store the LabelEncoder in the dictionary\n",
    "    le_dict[i] = le"
   ]
  },
  {
   "cell_type": "code",
   "execution_count": 4,
   "id": "913bd4ec",
   "metadata": {
    "scrolled": true
   },
   "outputs": [
    {
     "name": "stdout",
     "output_type": "stream",
     "text": [
      "Column 0 has labels ['no' 'yes']\n",
      "Column 1 has labels ['no' 'yes']\n",
      "Column 2 has labels ['no' 'yes']\n",
      "Column 3 has labels ['no' 'yes']\n",
      "Column 4 has labels ['full' 'none' 'some']\n",
      "Column 6 has labels ['no' 'yes']\n",
      "Column 7 has labels ['no' 'yes']\n",
      "Column 8 has labels ['Burger' 'French' 'Italian' 'Thai']\n"
     ]
    }
   ],
   "source": [
    "for i in le_dict:\n",
    "    print(f\"Column {i} has labels {le_dict[i].classes_}\")"
   ]
  },
  {
   "cell_type": "code",
   "execution_count": 5,
   "id": "5fdd957e",
   "metadata": {},
   "outputs": [],
   "source": [
    "X = dataset[:, 0:10]\n",
    "y = dataset[:, 10]"
   ]
  },
  {
   "cell_type": "code",
   "execution_count": 6,
   "id": "89f63803",
   "metadata": {},
   "outputs": [],
   "source": [
    "# Apply label encoding to the rest of the columns\n",
    "for i in [0, 1, 2, 3, 4, 6, 7, 8]:\n",
    "    X[:, i] = le_dict[i].transform(X[:, i])"
   ]
  },
  {
   "cell_type": "code",
   "execution_count": 7,
   "id": "d1d7b9b3",
   "metadata": {},
   "outputs": [
    {
     "data": {
      "text/plain": [
       "array([[1, 0, 0, 1, 2, 3, 0, 1, 1, 0],\n",
       "       [1, 0, 0, 1, 0, 1, 0, 0, 3, 2],\n",
       "       [0, 1, 0, 0, 2, 1, 0, 0, 0, 0],\n",
       "       [1, 0, 1, 1, 0, 1, 1, 0, 3, 1],\n",
       "       [1, 0, 1, 0, 0, 3, 0, 1, 1, 3],\n",
       "       [0, 1, 0, 1, 2, 2, 1, 1, 2, 0],\n",
       "       [0, 1, 0, 0, 1, 1, 1, 0, 0, 0],\n",
       "       [0, 0, 0, 1, 2, 2, 1, 1, 3, 0],\n",
       "       [0, 1, 1, 0, 0, 1, 1, 0, 0, 3],\n",
       "       [1, 1, 1, 1, 0, 3, 0, 1, 2, 1],\n",
       "       [0, 0, 0, 0, 1, 1, 0, 0, 3, 0],\n",
       "       [1, 1, 1, 1, 0, 1, 0, 0, 0, 2]], dtype=object)"
      ]
     },
     "execution_count": 7,
     "metadata": {},
     "output_type": "execute_result"
    }
   ],
   "source": [
    "## handle the range value. Define a mapping from range to bin label\n",
    "range_to_bin = {\n",
    "    (0, 10): 0,\n",
    "    (10, 30): 1,\n",
    "    (30, 60): 2,\n",
    "    (60, np.inf): 3\n",
    "}\n",
    "\n",
    "# Apply the mapping to the 9th column\n",
    "X[:, 9] = np.vectorize(range_to_bin.get)(X[:, 9])\n",
    "X"
   ]
  },
  {
   "cell_type": "code",
   "execution_count": 8,
   "id": "d4d05eee",
   "metadata": {},
   "outputs": [],
   "source": [
    "# Define a new LabelEncoder for the target\n",
    "le_y = preprocessing.LabelEncoder()\n",
    "\n",
    "# Fit the LabelEncoder to the target\n",
    "le_y.fit(y)\n",
    "\n",
    "# Transform the target\n",
    "y = le_y.transform(y)"
   ]
  },
  {
   "cell_type": "code",
   "execution_count": 9,
   "id": "ff80cfb5",
   "metadata": {},
   "outputs": [
    {
     "data": {
      "text/plain": [
       "DecisionTreeClassifier(criterion='entropy')"
      ]
     },
     "execution_count": 9,
     "metadata": {},
     "output_type": "execute_result"
    }
   ],
   "source": [
    "# Create a decision tree classifier\n",
    "dtc = tree.DecisionTreeClassifier(criterion=\"entropy\")\n",
    "\n",
    "# Fit the classifier to your data\n",
    "dtc.fit(X, y)"
   ]
  },
  {
   "cell_type": "code",
   "execution_count": 11,
   "id": "0334475c",
   "metadata": {},
   "outputs": [
    {
     "data": {
      "image/svg+xml": [
       "<?xml version=\"1.0\" encoding=\"UTF-8\" standalone=\"no\"?>\n",
       "<!DOCTYPE svg PUBLIC \"-//W3C//DTD SVG 1.1//EN\"\n",
       " \"http://www.w3.org/Graphics/SVG/1.1/DTD/svg11.dtd\">\n",
       "<!-- Generated by graphviz version 2.50.0 (0)\n",
       " -->\n",
       "<!-- Title: Tree Pages: 1 -->\n",
       "<svg width=\"353pt\" height=\"552pt\"\n",
       " viewBox=\"0.00 0.00 353.00 552.00\" xmlns=\"http://www.w3.org/2000/svg\" xmlns:xlink=\"http://www.w3.org/1999/xlink\">\n",
       "<g id=\"graph0\" class=\"graph\" transform=\"scale(1 1) rotate(0) translate(4 548)\">\n",
       "<title>Tree</title>\n",
       "<polygon fill=\"white\" stroke=\"transparent\" points=\"-4,4 -4,-548 349,-548 349,4 -4,4\"/>\n",
       "<!-- 0 -->\n",
       "<g id=\"node1\" class=\"node\">\n",
       "<title>0</title>\n",
       "<polygon fill=\"#ffffff\" stroke=\"black\" points=\"228,-544 122,-544 122,-461 228,-461 228,-544\"/>\n",
       "<text text-anchor=\"middle\" x=\"175\" y=\"-528.8\" font-family=\"Helvetica,sans-Serif\" font-size=\"14.00\">Pat &lt;= 1.5</text>\n",
       "<text text-anchor=\"middle\" x=\"175\" y=\"-513.8\" font-family=\"Helvetica,sans-Serif\" font-size=\"14.00\">entropy = 1.0</text>\n",
       "<text text-anchor=\"middle\" x=\"175\" y=\"-498.8\" font-family=\"Helvetica,sans-Serif\" font-size=\"14.00\">samples = 12</text>\n",
       "<text text-anchor=\"middle\" x=\"175\" y=\"-483.8\" font-family=\"Helvetica,sans-Serif\" font-size=\"14.00\">value = [6, 6]</text>\n",
       "<text text-anchor=\"middle\" x=\"175\" y=\"-468.8\" font-family=\"Helvetica,sans-Serif\" font-size=\"14.00\">class = notwait</text>\n",
       "</g>\n",
       "<!-- 1 -->\n",
       "<g id=\"node2\" class=\"node\">\n",
       "<title>1</title>\n",
       "<polygon fill=\"#eeab7b\" stroke=\"black\" points=\"170,-425 60,-425 60,-342 170,-342 170,-425\"/>\n",
       "<text text-anchor=\"middle\" x=\"115\" y=\"-409.8\" font-family=\"Helvetica,sans-Serif\" font-size=\"14.00\">Hun &lt;= 0.5</text>\n",
       "<text text-anchor=\"middle\" x=\"115\" y=\"-394.8\" font-family=\"Helvetica,sans-Serif\" font-size=\"14.00\">entropy = 0.811</text>\n",
       "<text text-anchor=\"middle\" x=\"115\" y=\"-379.8\" font-family=\"Helvetica,sans-Serif\" font-size=\"14.00\">samples = 8</text>\n",
       "<text text-anchor=\"middle\" x=\"115\" y=\"-364.8\" font-family=\"Helvetica,sans-Serif\" font-size=\"14.00\">value = [6, 2]</text>\n",
       "<text text-anchor=\"middle\" x=\"115\" y=\"-349.8\" font-family=\"Helvetica,sans-Serif\" font-size=\"14.00\">class = notwait</text>\n",
       "</g>\n",
       "<!-- 0&#45;&gt;1 -->\n",
       "<g id=\"edge1\" class=\"edge\">\n",
       "<title>0&#45;&gt;1</title>\n",
       "<path fill=\"none\" stroke=\"black\" d=\"M154.18,-460.91C149.76,-452.29 145.05,-443.09 140.47,-434.17\"/>\n",
       "<polygon fill=\"black\" stroke=\"black\" points=\"143.46,-432.32 135.78,-425.02 137.23,-435.52 143.46,-432.32\"/>\n",
       "<text text-anchor=\"middle\" x=\"128.12\" y=\"-445.12\" font-family=\"Helvetica,sans-Serif\" font-size=\"14.00\">True</text>\n",
       "</g>\n",
       "<!-- 8 -->\n",
       "<g id=\"node9\" class=\"node\">\n",
       "<title>8</title>\n",
       "<polygon fill=\"#399de5\" stroke=\"black\" points=\"284,-417.5 188,-417.5 188,-349.5 284,-349.5 284,-417.5\"/>\n",
       "<text text-anchor=\"middle\" x=\"236\" y=\"-402.3\" font-family=\"Helvetica,sans-Serif\" font-size=\"14.00\">entropy = 0.0</text>\n",
       "<text text-anchor=\"middle\" x=\"236\" y=\"-387.3\" font-family=\"Helvetica,sans-Serif\" font-size=\"14.00\">samples = 4</text>\n",
       "<text text-anchor=\"middle\" x=\"236\" y=\"-372.3\" font-family=\"Helvetica,sans-Serif\" font-size=\"14.00\">value = [0, 4]</text>\n",
       "<text text-anchor=\"middle\" x=\"236\" y=\"-357.3\" font-family=\"Helvetica,sans-Serif\" font-size=\"14.00\">class = wait</text>\n",
       "</g>\n",
       "<!-- 0&#45;&gt;8 -->\n",
       "<g id=\"edge8\" class=\"edge\">\n",
       "<title>0&#45;&gt;8</title>\n",
       "<path fill=\"none\" stroke=\"black\" d=\"M196.16,-460.91C201.92,-449.87 208.16,-437.9 213.96,-426.77\"/>\n",
       "<polygon fill=\"black\" stroke=\"black\" points=\"217.19,-428.15 218.71,-417.67 210.98,-424.92 217.19,-428.15\"/>\n",
       "<text text-anchor=\"middle\" x=\"226.21\" y=\"-437.81\" font-family=\"Helvetica,sans-Serif\" font-size=\"14.00\">False</text>\n",
       "</g>\n",
       "<!-- 2 -->\n",
       "<g id=\"node3\" class=\"node\">\n",
       "<title>2</title>\n",
       "<polygon fill=\"#e58139\" stroke=\"black\" points=\"106,-298.5 0,-298.5 0,-230.5 106,-230.5 106,-298.5\"/>\n",
       "<text text-anchor=\"middle\" x=\"53\" y=\"-283.3\" font-family=\"Helvetica,sans-Serif\" font-size=\"14.00\">entropy = 0.0</text>\n",
       "<text text-anchor=\"middle\" x=\"53\" y=\"-268.3\" font-family=\"Helvetica,sans-Serif\" font-size=\"14.00\">samples = 4</text>\n",
       "<text text-anchor=\"middle\" x=\"53\" y=\"-253.3\" font-family=\"Helvetica,sans-Serif\" font-size=\"14.00\">value = [4, 0]</text>\n",
       "<text text-anchor=\"middle\" x=\"53\" y=\"-238.3\" font-family=\"Helvetica,sans-Serif\" font-size=\"14.00\">class = notwait</text>\n",
       "</g>\n",
       "<!-- 1&#45;&gt;2 -->\n",
       "<g id=\"edge2\" class=\"edge\">\n",
       "<title>1&#45;&gt;2</title>\n",
       "<path fill=\"none\" stroke=\"black\" d=\"M93.49,-341.91C87.64,-330.87 81.3,-318.9 75.4,-307.77\"/>\n",
       "<polygon fill=\"black\" stroke=\"black\" points=\"78.35,-305.86 70.58,-298.67 72.17,-309.14 78.35,-305.86\"/>\n",
       "</g>\n",
       "<!-- 3 -->\n",
       "<g id=\"node4\" class=\"node\">\n",
       "<title>3</title>\n",
       "<polygon fill=\"#ffffff\" stroke=\"black\" points=\"230,-306 124,-306 124,-223 230,-223 230,-306\"/>\n",
       "<text text-anchor=\"middle\" x=\"177\" y=\"-290.8\" font-family=\"Helvetica,sans-Serif\" font-size=\"14.00\">Type &lt;= 1.0</text>\n",
       "<text text-anchor=\"middle\" x=\"177\" y=\"-275.8\" font-family=\"Helvetica,sans-Serif\" font-size=\"14.00\">entropy = 1.0</text>\n",
       "<text text-anchor=\"middle\" x=\"177\" y=\"-260.8\" font-family=\"Helvetica,sans-Serif\" font-size=\"14.00\">samples = 4</text>\n",
       "<text text-anchor=\"middle\" x=\"177\" y=\"-245.8\" font-family=\"Helvetica,sans-Serif\" font-size=\"14.00\">value = [2, 2]</text>\n",
       "<text text-anchor=\"middle\" x=\"177\" y=\"-230.8\" font-family=\"Helvetica,sans-Serif\" font-size=\"14.00\">class = notwait</text>\n",
       "</g>\n",
       "<!-- 1&#45;&gt;3 -->\n",
       "<g id=\"edge3\" class=\"edge\">\n",
       "<title>1&#45;&gt;3</title>\n",
       "<path fill=\"none\" stroke=\"black\" d=\"M136.51,-341.91C141.13,-333.2 146.05,-323.9 150.83,-314.89\"/>\n",
       "<polygon fill=\"black\" stroke=\"black\" points=\"153.94,-316.5 155.53,-306.02 147.75,-313.22 153.94,-316.5\"/>\n",
       "</g>\n",
       "<!-- 4 -->\n",
       "<g id=\"node5\" class=\"node\">\n",
       "<title>4</title>\n",
       "<polygon fill=\"#399de5\" stroke=\"black\" points=\"164,-179.5 68,-179.5 68,-111.5 164,-111.5 164,-179.5\"/>\n",
       "<text text-anchor=\"middle\" x=\"116\" y=\"-164.3\" font-family=\"Helvetica,sans-Serif\" font-size=\"14.00\">entropy = 0.0</text>\n",
       "<text text-anchor=\"middle\" x=\"116\" y=\"-149.3\" font-family=\"Helvetica,sans-Serif\" font-size=\"14.00\">samples = 1</text>\n",
       "<text text-anchor=\"middle\" x=\"116\" y=\"-134.3\" font-family=\"Helvetica,sans-Serif\" font-size=\"14.00\">value = [0, 1]</text>\n",
       "<text text-anchor=\"middle\" x=\"116\" y=\"-119.3\" font-family=\"Helvetica,sans-Serif\" font-size=\"14.00\">class = wait</text>\n",
       "</g>\n",
       "<!-- 3&#45;&gt;4 -->\n",
       "<g id=\"edge4\" class=\"edge\">\n",
       "<title>3&#45;&gt;4</title>\n",
       "<path fill=\"none\" stroke=\"black\" d=\"M155.84,-222.91C150.08,-211.87 143.84,-199.9 138.04,-188.77\"/>\n",
       "<polygon fill=\"black\" stroke=\"black\" points=\"141.02,-186.92 133.29,-179.67 134.81,-190.15 141.02,-186.92\"/>\n",
       "</g>\n",
       "<!-- 5 -->\n",
       "<g id=\"node6\" class=\"node\">\n",
       "<title>5</title>\n",
       "<polygon fill=\"#f2c09c\" stroke=\"black\" points=\"293.5,-187 182.5,-187 182.5,-104 293.5,-104 293.5,-187\"/>\n",
       "<text text-anchor=\"middle\" x=\"238\" y=\"-171.8\" font-family=\"Helvetica,sans-Serif\" font-size=\"14.00\">Rain &lt;= 0.5</text>\n",
       "<text text-anchor=\"middle\" x=\"238\" y=\"-156.8\" font-family=\"Helvetica,sans-Serif\" font-size=\"14.00\">entropy = 0.918</text>\n",
       "<text text-anchor=\"middle\" x=\"238\" y=\"-141.8\" font-family=\"Helvetica,sans-Serif\" font-size=\"14.00\">samples = 3</text>\n",
       "<text text-anchor=\"middle\" x=\"238\" y=\"-126.8\" font-family=\"Helvetica,sans-Serif\" font-size=\"14.00\">value = [2, 1]</text>\n",
       "<text text-anchor=\"middle\" x=\"238\" y=\"-111.8\" font-family=\"Helvetica,sans-Serif\" font-size=\"14.00\">class = notwait</text>\n",
       "</g>\n",
       "<!-- 3&#45;&gt;5 -->\n",
       "<g id=\"edge5\" class=\"edge\">\n",
       "<title>3&#45;&gt;5</title>\n",
       "<path fill=\"none\" stroke=\"black\" d=\"M198.16,-222.91C202.71,-214.2 207.55,-204.9 212.25,-195.89\"/>\n",
       "<polygon fill=\"black\" stroke=\"black\" points=\"215.35,-197.51 216.87,-187.02 209.15,-194.27 215.35,-197.51\"/>\n",
       "</g>\n",
       "<!-- 6 -->\n",
       "<g id=\"node7\" class=\"node\">\n",
       "<title>6</title>\n",
       "<polygon fill=\"#e58139\" stroke=\"black\" points=\"231,-68 125,-68 125,0 231,0 231,-68\"/>\n",
       "<text text-anchor=\"middle\" x=\"178\" y=\"-52.8\" font-family=\"Helvetica,sans-Serif\" font-size=\"14.00\">entropy = 0.0</text>\n",
       "<text text-anchor=\"middle\" x=\"178\" y=\"-37.8\" font-family=\"Helvetica,sans-Serif\" font-size=\"14.00\">samples = 2</text>\n",
       "<text text-anchor=\"middle\" x=\"178\" y=\"-22.8\" font-family=\"Helvetica,sans-Serif\" font-size=\"14.00\">value = [2, 0]</text>\n",
       "<text text-anchor=\"middle\" x=\"178\" y=\"-7.8\" font-family=\"Helvetica,sans-Serif\" font-size=\"14.00\">class = notwait</text>\n",
       "</g>\n",
       "<!-- 5&#45;&gt;6 -->\n",
       "<g id=\"edge6\" class=\"edge\">\n",
       "<title>5&#45;&gt;6</title>\n",
       "<path fill=\"none\" stroke=\"black\" d=\"M215.66,-103.73C210.91,-95.06 205.89,-85.9 201.11,-77.18\"/>\n",
       "<polygon fill=\"black\" stroke=\"black\" points=\"204.12,-75.39 196.25,-68.3 197.98,-78.75 204.12,-75.39\"/>\n",
       "</g>\n",
       "<!-- 7 -->\n",
       "<g id=\"node8\" class=\"node\">\n",
       "<title>7</title>\n",
       "<polygon fill=\"#399de5\" stroke=\"black\" points=\"345,-68 249,-68 249,0 345,0 345,-68\"/>\n",
       "<text text-anchor=\"middle\" x=\"297\" y=\"-52.8\" font-family=\"Helvetica,sans-Serif\" font-size=\"14.00\">entropy = 0.0</text>\n",
       "<text text-anchor=\"middle\" x=\"297\" y=\"-37.8\" font-family=\"Helvetica,sans-Serif\" font-size=\"14.00\">samples = 1</text>\n",
       "<text text-anchor=\"middle\" x=\"297\" y=\"-22.8\" font-family=\"Helvetica,sans-Serif\" font-size=\"14.00\">value = [0, 1]</text>\n",
       "<text text-anchor=\"middle\" x=\"297\" y=\"-7.8\" font-family=\"Helvetica,sans-Serif\" font-size=\"14.00\">class = wait</text>\n",
       "</g>\n",
       "<!-- 5&#45;&gt;7 -->\n",
       "<g id=\"edge7\" class=\"edge\">\n",
       "<title>5&#45;&gt;7</title>\n",
       "<path fill=\"none\" stroke=\"black\" d=\"M259.97,-103.73C264.64,-95.06 269.58,-85.9 274.27,-77.18\"/>\n",
       "<polygon fill=\"black\" stroke=\"black\" points=\"277.4,-78.76 279.06,-68.3 271.23,-75.44 277.4,-78.76\"/>\n",
       "</g>\n",
       "</g>\n",
       "</svg>\n"
      ],
      "text/plain": [
       "<graphviz.sources.Source at 0x15889fb3100>"
      ]
     },
     "execution_count": 11,
     "metadata": {},
     "output_type": "execute_result"
    }
   ],
   "source": [
    "# Export the tree in DOT format\n",
    "dot_data = tree.export_graphviz(dtc, out_file=None, \n",
    "                                feature_names=['Alt', 'Bar', 'Fri','Hun','Pat','Price','Rain','Res','Type','Est'],  \n",
    "                                class_names=['notwait', 'wait'],  \n",
    "                                filled=True)\n",
    "\n",
    "# Create a Graphviz object\n",
    "graph = graphviz.Source(dot_data)\n",
    "\n",
    "# Display the graph\n",
    "graph"
   ]
  },
  {
   "cell_type": "code",
   "execution_count": 12,
   "id": "ee0b9ee1",
   "metadata": {},
   "outputs": [],
   "source": [
    "# Define a new instance\n",
    "def predict_new_instance(feature1, feature2, feature3, feature4, feature5, feature6, feature7, feature8, feature9, feature10):\n",
    "\n",
    "    new_instance = np.array([feature1, feature2, feature3, feature4, feature5, feature6, feature7, feature8, feature9, feature10])\n",
    "\n",
    "# Preprocess the new instance in the same way as the training data\n",
    "    for i in [0, 1, 2, 3, 4, 6, 7, 8]:\n",
    "        new_instance[i] = le_dict[i].transform([new_instance[i]])[0]\n",
    "\n",
    "# Handle the range value\n",
    "    new_instance[9] = range_to_bin[new_instance[9]]\n",
    "\n",
    "# Now your new instance is preprocessed and ready for prediction\n",
    "\n",
    "# Predict the target class for the new instance\n",
    "    predicted_class = dtc.predict([new_instance])\n",
    "\n",
    "# Decode the predicted class back into the original label\n",
    "    predicted_label = le_y.inverse_transform(predicted_class)\n",
    "\n",
    "# Print the predicted label\n",
    "    print(predicted_label)\n"
   ]
  },
  {
   "cell_type": "code",
   "execution_count": 13,
   "id": "def76689",
   "metadata": {
    "scrolled": true
   },
   "outputs": [],
   "source": [
    "# # Predict the target class for the new instance\n",
    "#     predicted_class = dtc.predict([new_instance])\n",
    "\n",
    "# # Decode the predicted class back into the original label\n",
    "#     predicted_label = le_y.inverse_transform(predicted_class)\n",
    "\n",
    "# # Print the predicted label\n",
    "#     print(predicted_label)\n"
   ]
  },
  {
   "cell_type": "code",
   "execution_count": 14,
   "id": "02a8baee",
   "metadata": {},
   "outputs": [],
   "source": [
    "## visualize the Dataset\n",
    "# df2 = pd.DataFrame(dataset,\n",
    "#                    columns=['Alt', 'Bar', 'Fri','Hun','Pat','Price','Rain','Res','Type','Est','WillWait'])\n",
    "# blankIndex=[''] * len(df2)\n",
    "# df2.index=blankIndex\n",
    "# df2"
   ]
  },
  {
   "cell_type": "code",
   "execution_count": null,
   "id": "de368788",
   "metadata": {},
   "outputs": [],
   "source": []
  },
  {
   "cell_type": "code",
   "execution_count": null,
   "id": "e24c3035",
   "metadata": {},
   "outputs": [],
   "source": []
  },
  {
   "cell_type": "code",
   "execution_count": null,
   "id": "3559a3ce",
   "metadata": {},
   "outputs": [],
   "source": []
  },
  {
   "cell_type": "code",
   "execution_count": null,
   "id": "58288791",
   "metadata": {},
   "outputs": [],
   "source": []
  }
 ],
 "metadata": {
  "kernelspec": {
   "display_name": "Python 3 (ipykernel)",
   "language": "python",
   "name": "python3"
  },
  "language_info": {
   "codemirror_mode": {
    "name": "ipython",
    "version": 3
   },
   "file_extension": ".py",
   "mimetype": "text/x-python",
   "name": "python",
   "nbconvert_exporter": "python",
   "pygments_lexer": "ipython3",
   "version": "3.9.13"
  }
 },
 "nbformat": 4,
 "nbformat_minor": 5
}
